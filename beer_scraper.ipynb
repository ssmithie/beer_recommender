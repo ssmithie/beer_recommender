{
 "cells": [
  {
   "cell_type": "code",
   "execution_count": 1,
   "metadata": {},
   "outputs": [],
   "source": [
    "import config\n",
    "import pandas as pd\n",
    "import json\n",
    "import requests"
   ]
  },
  {
   "cell_type": "code",
   "execution_count": 2,
   "metadata": {},
   "outputs": [],
   "source": [
    "def get_brewery_info(url, api_key, page, page_limit):\n",
    "    \"\"\"function to pull the information from the Brewery DB API\"\"\"\n",
    "    paged_data = []\n",
    "    while page <= page_limit:\n",
    "        url_params = {'key': api_key, 'format':'json', 'p': page, 'withIngredients': 'Y'}\n",
    "        response = requests.get(url, params=url_params)\n",
    "        paged_data.append(response.json())\n",
    "        page += 1\n",
    "    return paged_data"
   ]
  },
  {
   "cell_type": "code",
   "execution_count": 4,
   "metadata": {},
   "outputs": [],
   "source": [
    "api_key = config.key\n",
    "# url_params = {'key': api_key, 'format':'json', 'p': page, 'withBreweries': 'Y', 'withIngredients': 'Y'}\n",
    "url = \"https://sandbox-api.brewerydb.com/v2/beers/\""
   ]
  },
  {
   "cell_type": "code",
   "execution_count": 5,
   "metadata": {},
   "outputs": [],
   "source": [
    "data = get_brewery_info(url, api_key, 1, 50)"
   ]
  },
  {
   "cell_type": "code",
   "execution_count": 13,
   "metadata": {},
   "outputs": [
    {
     "data": {
      "text/plain": [
       "dict_keys(['currentPage', 'numberOfPages', 'totalResults', 'data', 'status'])"
      ]
     },
     "execution_count": 13,
     "metadata": {},
     "output_type": "execute_result"
    }
   ],
   "source": [
    "data[22].keys()"
   ]
  },
  {
   "cell_type": "code",
   "execution_count": 16,
   "metadata": {},
   "outputs": [
    {
     "data": {
      "text/plain": [
       "{'id': 'BKi6Ss',\n",
       " 'name': 'Yadig? Berliner Hopfenweissen',\n",
       " 'nameDisplay': 'Yadig? Berliner Hopfenweissen',\n",
       " 'description': 'A wheat ale with a generous amount of Medusa hops and a tart, dry finish. Brewed in collaboration with Oskar Blues for 2014 Cleveland Beer Week.',\n",
       " 'abv': '4.3',\n",
       " 'ibu': '35',\n",
       " 'availableId': 2,\n",
       " 'styleId': 35,\n",
       " 'isOrganic': 'N',\n",
       " 'isRetired': 'N',\n",
       " 'status': 'verified',\n",
       " 'statusDisplay': 'Verified',\n",
       " 'createDate': '2015-04-14 14:12:06',\n",
       " 'updateDate': '2018-11-02 02:15:14',\n",
       " 'available': {'id': 2,\n",
       "  'name': 'Limited',\n",
       "  'description': 'Limited availability.'},\n",
       " 'style': {'id': 35,\n",
       "  'categoryId': 3,\n",
       "  'category': {'id': 3,\n",
       "   'name': 'North American Origin Ales',\n",
       "   'createDate': '2012-03-21 20:06:45'},\n",
       "  'name': 'American-Style Wheat Wine Ale',\n",
       "  'shortName': 'Wheatwine',\n",
       "  'description': 'American style wheat wines range from gold to deep amber and are brewed with 50% or more wheat malt. They have full body and high residual malty sweetness. Perception of bitterness is moderate to medium -high. Fruity-ester characters are often high and counterbalanced by complexity of alcohols and high alcohol content. Hop aroma and flavor are at low to medium levels. Very low levels of diacetyl may be acceptable. Bready, wheat, honey-like and/or caramel aroma and flavor are often part of the character. Phenolic yeast character, sulfur, and/or sweet corn-like dimethylsulfide (DMS) should not be present. Oxidized, stale and aged characters are not typical of this style. Chill haze is allowable.',\n",
       "  'ibuMin': '45',\n",
       "  'ibuMax': '85',\n",
       "  'abvMin': '8.4',\n",
       "  'abvMax': '12',\n",
       "  'srmMin': '8',\n",
       "  'srmMax': '15',\n",
       "  'ogMin': '1.088',\n",
       "  'fgMin': '1.024',\n",
       "  'fgMax': '1.032',\n",
       "  'createDate': '2012-03-21 20:06:46',\n",
       "  'updateDate': '2015-04-07 15:27:17'}}"
      ]
     },
     "execution_count": 16,
     "metadata": {},
     "output_type": "execute_result"
    }
   ],
   "source": [
    "data[22]['data'][1]"
   ]
  },
  {
   "cell_type": "code",
   "execution_count": null,
   "metadata": {},
   "outputs": [],
   "source": []
  }
 ],
 "metadata": {
  "kernelspec": {
   "display_name": "Python 3",
   "language": "python",
   "name": "python3"
  },
  "language_info": {
   "codemirror_mode": {
    "name": "ipython",
    "version": 3
   },
   "file_extension": ".py",
   "mimetype": "text/x-python",
   "name": "python",
   "nbconvert_exporter": "python",
   "pygments_lexer": "ipython3",
   "version": "3.7.3"
  }
 },
 "nbformat": 4,
 "nbformat_minor": 2
}
